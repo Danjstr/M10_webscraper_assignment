{
  "nbformat": 4,
  "nbformat_minor": 0,
  "metadata": {
    "colab": {
      "name": "script 2 Web scraping",
      "provenance": [],
      "authorship_tag": "ABX9TyNmfYFe9B3tn103KMcBJzdf",
      "include_colab_link": true
    },
    "kernelspec": {
      "name": "python3",
      "display_name": "Python 3"
    },
    "language_info": {
      "name": "python"
    }
  },
  "cells": [
    {
      "cell_type": "markdown",
      "metadata": {
        "id": "view-in-github",
        "colab_type": "text"
      },
      "source": [
        "<a href=\"https://colab.research.google.com/github/Danjstr/M10_webscraper_assignment/blob/main/script_2_Web_scraping.ipynb\" target=\"_parent\"><img src=\"https://colab.research.google.com/assets/colab-badge.svg\" alt=\"Open In Colab\"/></a>"
      ]
    },
    {
      "cell_type": "code",
      "metadata": {
        "id": "diUpPis4rHtu"
      },
      "source": [
        "####"
      ],
      "execution_count": null,
      "outputs": []
    }
  ]
}