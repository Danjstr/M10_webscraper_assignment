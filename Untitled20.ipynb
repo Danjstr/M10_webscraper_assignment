{
  "nbformat": 4,
  "nbformat_minor": 0,
  "metadata": {
    "colab": {
      "name": "Untitled20.ipynb",
      "provenance": [],
      "authorship_tag": "ABX9TyNkKBdk4+6dONjynKx3K4cA",
      "include_colab_link": true
    },
    "kernelspec": {
      "name": "python3",
      "display_name": "Python 3"
    },
    "language_info": {
      "name": "python"
    }
  },
  "cells": [
    {
      "cell_type": "markdown",
      "metadata": {
        "id": "view-in-github",
        "colab_type": "text"
      },
      "source": [
        "<a href=\"https://colab.research.google.com/github/Danjstr/M10_webscraper_assignment/blob/main/Untitled20.ipynb\" target=\"_parent\"><img src=\"https://colab.research.google.com/assets/colab-badge.svg\" alt=\"Open In Colab\"/></a>"
      ]
    },
    {
      "cell_type": "code",
      "metadata": {
        "colab": {
          "base_uri": "https://localhost:8080/",
          "height": 374
        },
        "id": "yMWv2qMerGF0",
        "outputId": "21a5acf1-2f06-411a-d4bb-d1a4ca946bd7"
      },
      "source": [
        "####\n",
        "#Author: Jesus Olivera\n",
        "#version 1.0\n",
        "#references: \n",
        "#https://www.programiz.com/python-programming/working-csv-files\n",
        "#https://boto3.amazonaws.com/v1/documentation/api/latest/reference/services/s3.html#S3.Client.create_bucket\n",
        "#https://realpython.com/python-boto3-aws-s3/\n",
        "#CLI aws s3api create-bucket --bucket my-bucket-name --region us-west-2 --create-bucket-configuration LocationConstraint=us-west-2\n",
        "#https://robertorocha.info/setting-up-a-selenium-web-scraper-on-aws-lambda-with-python/ \n",
        "##\n",
        "\n",
        "###Load libraries\n",
        "import awscli\n",
        "import selenium\n",
        "import boto3\n",
        "import pandas as pd\n",
        "import time\n",
        "\n",
        "from selenium import webdriver\n",
        "\n",
        "\n",
        "####SCRAPE THE WEBSITE######\n",
        "###call the webdriver\n",
        "browser = webdriver.Chrome(\"C:\\Windows/chromedriver.exe\")\n",
        "\n",
        "#Path that needs to be accessed by webdriver\n",
        "browser.get('https://www.charitiesnys.com/RegistrySearch/search_charities.jsp')\n",
        "\n",
        "#identify xpath of location to select element\n",
        "inputElement = browser.find_element_by_xpath(\"/html/body/div/div[2]/div/table/tbody/tr/td[2]/div/div/font/font/font/font/font/font/table/tbody/tr[4]/td/form/table/tbody/tr[2]/td[2]/input[1]\")\n",
        "inputElement.send_keys('0')\n",
        "inputElement1 = browser.find_element_by_xpath(\"/html/body/div/div[2]/div/table/tbody/tr/td[2]/div/div/font/font/font/font/font/font/table/tbody/tr[4]/td/form/table/tbody/tr[10]/td/input[1]\").click()\n",
        "\n",
        "#identify the table to scrape\n",
        "table = browser.find_element_by_css_selector('table.Bordered')\n",
        "\n",
        "print(table)\n"
      ],
      "execution_count": 1,
      "outputs": [
        {
          "output_type": "error",
          "ename": "ModuleNotFoundError",
          "evalue": "ignored",
          "traceback": [
            "\u001b[0;31m---------------------------------------------------------------------------\u001b[0m",
            "\u001b[0;31mModuleNotFoundError\u001b[0m                       Traceback (most recent call last)",
            "\u001b[0;32m<ipython-input-1-b0399c85182c>\u001b[0m in \u001b[0;36m<module>\u001b[0;34m()\u001b[0m\n\u001b[1;32m     11\u001b[0m \u001b[0;34m\u001b[0m\u001b[0m\n\u001b[1;32m     12\u001b[0m \u001b[0;31m###Load libraries\u001b[0m\u001b[0;34m\u001b[0m\u001b[0;34m\u001b[0m\u001b[0;34m\u001b[0m\u001b[0m\n\u001b[0;32m---> 13\u001b[0;31m \u001b[0;32mimport\u001b[0m \u001b[0mawscli\u001b[0m\u001b[0;34m\u001b[0m\u001b[0;34m\u001b[0m\u001b[0m\n\u001b[0m\u001b[1;32m     14\u001b[0m \u001b[0;32mimport\u001b[0m \u001b[0mselenium\u001b[0m\u001b[0;34m\u001b[0m\u001b[0;34m\u001b[0m\u001b[0m\n\u001b[1;32m     15\u001b[0m \u001b[0;32mimport\u001b[0m \u001b[0mboto3\u001b[0m\u001b[0;34m\u001b[0m\u001b[0;34m\u001b[0m\u001b[0m\n",
            "\u001b[0;31mModuleNotFoundError\u001b[0m: No module named 'awscli'",
            "",
            "\u001b[0;31m---------------------------------------------------------------------------\u001b[0;32m\nNOTE: If your import is failing due to a missing package, you can\nmanually install dependencies using either !pip or !apt.\n\nTo view examples of installing some common dependencies, click the\n\"Open Examples\" button below.\n\u001b[0;31m---------------------------------------------------------------------------\u001b[0m\n"
          ]
        }
      ]
    },
    {
      "cell_type": "code",
      "metadata": {
        "id": "sypSZHKWrblY"
      },
      "source": [
        "\n",
        "#####CREATE DATE FRAME#####\n",
        "#create empty dataframe\n",
        "df =[]\n",
        "\n",
        "#loop through dataframe to export table\n",
        "for row in table.find_elements_by_css_selector('tr'):\n",
        "      cols = df.append([cell.text for cell in row.find_elements_by_css_selector('td')])\n",
        "\n",
        "\n",
        "#update dataframe with header \n",
        "df = pd.DataFrame(df, columns = [\"Organization Name\", \"NY Reg #\", \"EIN\" ,\"Registrant Type\",\"City\",\"State\"])\n",
        "# display(df) #let's have a look at the data before creating the CSV file and loading it into s3\n",
        "\n",
        "# Removing row with \"None\" values and re-indexing the dataframe\n",
        "updated_df = pd.DataFrame(df).dropna().reset_index().drop(['index'], axis=1) \n",
        "\n",
        "updated_df"
      ],
      "execution_count": null,
      "outputs": []
    },
    {
      "cell_type": "code",
      "metadata": {
        "colab": {
          "base_uri": "https://localhost:8080/",
          "height": 235
        },
        "id": "EadB_J50riRD",
        "outputId": "23b23cfe-0b0c-4093-ad43-9d5c80c77df9"
      },
      "source": [
        "\n",
        "###LOAD THE FILE INTO S3####\n",
        "# prepare csv file name   \n",
        "pathname = 's3:/yubucket1/'\n",
        "filename= 'charities_bureau_scrape_' #name of your group\n",
        "datetime = time.strftime(\"%Y%m%d%H%M%S\") #timestamp\n",
        "filenames3 = \"%s%s%s.csv\"%(pathname,filename,datetime) #name of the filepath and csv file\n",
        "\n",
        "#load file into s3. Pandas actually leverages boto to connect to s3 and can push the file directly into an s3 bucket\n",
        "updated_df.to_csv(filenames3, header=True, line_terminator='\\n') \n",
        "\n",
        "#print success message\n",
        "print(\"Successfull uploaded file to location:\"+str(filenames3))"
      ],
      "execution_count": 2,
      "outputs": [
        {
          "output_type": "error",
          "ename": "NameError",
          "evalue": "ignored",
          "traceback": [
            "\u001b[0;31m---------------------------------------------------------------------------\u001b[0m",
            "\u001b[0;31mNameError\u001b[0m                                 Traceback (most recent call last)",
            "\u001b[0;32m<ipython-input-2-5efb9193d22b>\u001b[0m in \u001b[0;36m<module>\u001b[0;34m()\u001b[0m\n\u001b[1;32m      4\u001b[0m \u001b[0mpathname\u001b[0m \u001b[0;34m=\u001b[0m \u001b[0;34m's3:/yubucket1/'\u001b[0m\u001b[0;34m\u001b[0m\u001b[0;34m\u001b[0m\u001b[0m\n\u001b[1;32m      5\u001b[0m \u001b[0mfilename\u001b[0m\u001b[0;34m=\u001b[0m \u001b[0;34m'charities_bureau_scrape_'\u001b[0m \u001b[0;31m#name of your group\u001b[0m\u001b[0;34m\u001b[0m\u001b[0;34m\u001b[0m\u001b[0m\n\u001b[0;32m----> 6\u001b[0;31m \u001b[0mdatetime\u001b[0m \u001b[0;34m=\u001b[0m \u001b[0mtime\u001b[0m\u001b[0;34m.\u001b[0m\u001b[0mstrftime\u001b[0m\u001b[0;34m(\u001b[0m\u001b[0;34m\"%Y%m%d%H%M%S\"\u001b[0m\u001b[0;34m)\u001b[0m \u001b[0;31m#timestamp\u001b[0m\u001b[0;34m\u001b[0m\u001b[0;34m\u001b[0m\u001b[0m\n\u001b[0m\u001b[1;32m      7\u001b[0m \u001b[0mfilenames3\u001b[0m \u001b[0;34m=\u001b[0m \u001b[0;34m\"%s%s%s.csv\"\u001b[0m\u001b[0;34m%\u001b[0m\u001b[0;34m(\u001b[0m\u001b[0mpathname\u001b[0m\u001b[0;34m,\u001b[0m\u001b[0mfilename\u001b[0m\u001b[0;34m,\u001b[0m\u001b[0mdatetime\u001b[0m\u001b[0;34m)\u001b[0m \u001b[0;31m#name of the filepath and csv file\u001b[0m\u001b[0;34m\u001b[0m\u001b[0;34m\u001b[0m\u001b[0m\n\u001b[1;32m      8\u001b[0m \u001b[0;34m\u001b[0m\u001b[0m\n",
            "\u001b[0;31mNameError\u001b[0m: name 'time' is not defined"
          ]
        }
      ]
    }
  ]
}